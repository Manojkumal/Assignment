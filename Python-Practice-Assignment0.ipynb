{
 "cells": [
  {
   "cell_type": "markdown",
   "id": "fa9bffd1",
   "metadata": {},
   "source": [
    "# write a program to interchange first and last elements"
   ]
  },
  {
   "cell_type": "code",
   "execution_count": 2,
   "id": "23aac7bb",
   "metadata": {},
   "outputs": [],
   "source": [
    "def swap_first_last(lst):\n",
    "    n = len(lst)\n",
    "    temp = lst[0]\n",
    "    lst[0] = lst[n-1]\n",
    "    lst[n-1] = temp\n",
    "    return lst\n"
   ]
  },
  {
   "cell_type": "code",
   "execution_count": 5,
   "id": "8bb15059",
   "metadata": {},
   "outputs": [
    {
     "name": "stdout",
     "output_type": "stream",
     "text": [
      "[6, 2, 3, 4, 5, 1]\n"
     ]
    }
   ],
   "source": [
    "lst = [1,2,3,4,5,6]\n",
    "result = swap_first_last(lst)\n",
    "print(result)"
   ]
  },
  {
   "cell_type": "code",
   "execution_count": 6,
   "id": "8f485d11",
   "metadata": {},
   "outputs": [
    {
     "name": "stdout",
     "output_type": "stream",
     "text": [
      "[6, 2, 3, 4, 5, 1]\n"
     ]
    }
   ],
   "source": [
    "def swap(lst):\n",
    "    lst[0],lst[-1]=lst[-1],lst[0]\n",
    "    return lst\n",
    "\n",
    "lst = [1,2,3,4,5,6]\n",
    "print(swap_first_last(lst))"
   ]
  },
  {
   "cell_type": "code",
   "execution_count": 7,
   "id": "a9d4308a",
   "metadata": {},
   "outputs": [
    {
     "name": "stdout",
     "output_type": "stream",
     "text": [
      "[6, 2, 3, 4, 5, 1]\n"
     ]
    }
   ],
   "source": [
    "def swap(lst):\n",
    "    get = lst[-1],lst[0]\n",
    "    lst[0],lst[-1]=get\n",
    "    return lst\n",
    "\n",
    "lst = [1,2,3,4,5,6]\n",
    "print(swap_first_last(lst))"
   ]
  },
  {
   "cell_type": "markdown",
   "id": "80affa43",
   "metadata": {},
   "source": [
    "# write a program to swap two elements in list\n"
   ]
  },
  {
   "cell_type": "code",
   "execution_count": 9,
   "id": "7a248ee3",
   "metadata": {},
   "outputs": [
    {
     "name": "stdout",
     "output_type": "stream",
     "text": [
      "[1, 3, 2, 4, 5, 6]\n"
     ]
    }
   ],
   "source": [
    "def swap_element(lst):\n",
    "    get = lst[2],lst[1]\n",
    "    lst[1],lst[2]=get\n",
    "    return lst\n",
    "\n",
    "lst = [1,2,3,4,5,6]\n",
    "print(swap_element(lst))"
   ]
  },
  {
   "cell_type": "code",
   "execution_count": 11,
   "id": "4c6eb88a",
   "metadata": {},
   "outputs": [
    {
     "name": "stdout",
     "output_type": "stream",
     "text": [
      "[1, 5, 3, 4, 2, 6]\n"
     ]
    }
   ],
   "source": [
    "def swap_element(lst):\n",
    "    lst[1],lst[4]=lst[4],lst[1]\n",
    "    return lst\n",
    "\n",
    "lst = [1,2,3,4,5,6]\n",
    "print(swap_element(lst))"
   ]
  },
  {
   "cell_type": "code",
   "execution_count": 13,
   "id": "624640ba",
   "metadata": {},
   "outputs": [
    {
     "name": "stdout",
     "output_type": "stream",
     "text": [
      "[10, 40, 20, 30]\n"
     ]
    }
   ],
   "source": [
    "def interchange(list,pos1,pos2):\n",
    "    get = lst[pos2],lst[pos1]\n",
    "    lst[pos1],lst[pos2]=get\n",
    "    return lst\n",
    "\n",
    "lst = [10,30,20,40]\n",
    "print(interchange(lst,pos1=1,pos2=3))\n",
    "    "
   ]
  },
  {
   "cell_type": "code",
   "execution_count": 15,
   "id": "aee17a27",
   "metadata": {},
   "outputs": [
    {
     "name": "stdout",
     "output_type": "stream",
     "text": [
      "['future', 'artificial', 'is', 'intelligence']\n"
     ]
    }
   ],
   "source": [
    "def swap_word_instring(sentence):\n",
    "    get = sentence[2],sentence[1]\n",
    "    sentence[1],sentence[2]=get\n",
    "    return sentence\n",
    "\n",
    "sent = [\"future\", \"is\", \"artificial\", \"intelligence\"]\n",
    "print(swap_word_instring(sent))\n",
    "    "
   ]
  },
  {
   "cell_type": "markdown",
   "id": "0f6e5a8d",
   "metadata": {},
   "source": [
    "# check if element is exists in the list"
   ]
  },
  {
   "cell_type": "code",
   "execution_count": 34,
   "id": "0a7706c7",
   "metadata": {},
   "outputs": [
    {
     "name": "stdout",
     "output_type": "stream",
     "text": [
      "EXISTS!!\n"
     ]
    }
   ],
   "source": [
    "def check_element(arr,element):\n",
    "    for i in arr:\n",
    "        if i==element:\n",
    "            return \"EXISTS!!\"\n",
    "\n",
    "arr = [10,20,50,30,40,23]\n",
    "print(check_element(arr,30))"
   ]
  },
  {
   "cell_type": "markdown",
   "id": "f755894a",
   "metadata": {},
   "source": [
    "# Reversing a List in Python"
   ]
  },
  {
   "cell_type": "code",
   "execution_count": 3,
   "id": "41e7d83f",
   "metadata": {},
   "outputs": [
    {
     "name": "stdout",
     "output_type": "stream",
     "text": [
      "[50, 40, 30, 20, 10]\n"
     ]
    }
   ],
   "source": [
    "def reverse_list(lst):\n",
    "    n = len(lst)\n",
    "    for i in range(int(n/2)):\n",
    "        temp = lst[i]\n",
    "        lst[i]=lst[n-i-1]\n",
    "        lst[n-i-1]=temp\n",
    "    return lst\n",
    "\n",
    "arr = [10,20,30,40,50]\n",
    "print(reverse_list(arr))\n"
   ]
  },
  {
   "cell_type": "code",
   "execution_count": 4,
   "id": "e5679ef6",
   "metadata": {},
   "outputs": [
    {
     "name": "stdout",
     "output_type": "stream",
     "text": [
      "['future', 'is', 'intelligence', 'artificial']\n"
     ]
    }
   ],
   "source": [
    "lst = [\"artificial\",\"intelligence\",\"is\",\"future\"]\n",
    "print(reverse_list(lst))"
   ]
  },
  {
   "cell_type": "markdown",
   "id": "e33fb6c4",
   "metadata": {},
   "source": [
    "# Count occurrences of an element in a list"
   ]
  },
  {
   "cell_type": "code",
   "execution_count": 5,
   "id": "fb8353bc",
   "metadata": {},
   "outputs": [
    {
     "name": "stdout",
     "output_type": "stream",
     "text": [
      "3\n"
     ]
    }
   ],
   "source": [
    "def count_occurrences(lst,element):\n",
    "    count = 0\n",
    "    for i in lst:\n",
    "        if i == element:\n",
    "            count += 1\n",
    "    return count\n",
    "\n",
    "ele = 10\n",
    "lst = [15, 6, 7, 10, 12, 20, 10, 28, 10]\n",
    "print(count_occurrences(lst,ele))"
   ]
  },
  {
   "cell_type": "markdown",
   "id": "a68439f9",
   "metadata": {},
   "source": [
    "# Find sum and average of List in Python"
   ]
  },
  {
   "cell_type": "code",
   "execution_count": 14,
   "id": "1e086b4f",
   "metadata": {},
   "outputs": [
    {
     "name": "stdout",
     "output_type": "stream",
     "text": [
      "(118, 13.11111111111111)\n"
     ]
    }
   ],
   "source": [
    "def sum_and_average(lst):\n",
    "    sum = 0\n",
    "    for val in lst:\n",
    "        sum = sum + val\n",
    "        avg = sum/9\n",
    "    return sum , avg\n",
    "\n",
    "lst = [15, 6, 7, 10, 12, 20, 10, 28, 10]\n",
    "print(sum_and_average(lst))\n",
    "\n",
    "    \n"
   ]
  },
  {
   "cell_type": "markdown",
   "id": "e67df639",
   "metadata": {},
   "source": [
    "# Multiply all numbers in the list"
   ]
  },
  {
   "cell_type": "code",
   "execution_count": 19,
   "id": "33d27fe2",
   "metadata": {},
   "outputs": [
    {
     "name": "stdout",
     "output_type": "stream",
     "text": [
      "120\n"
     ]
    }
   ],
   "source": [
    "def multiply_all(lst):\n",
    "    multiplication = 1\n",
    "    for i in lst:\n",
    "        multiplication *= i\n",
    "    return multiplication\n",
    "\n",
    "lst = [1,2,3,4,5]\n",
    "print(multiply_all(lst))"
   ]
  },
  {
   "cell_type": "markdown",
   "id": "4b9bf360",
   "metadata": {},
   "source": [
    "# Python program to find smallest number in a list"
   ]
  },
  {
   "cell_type": "code",
   "execution_count": 23,
   "id": "9d7455a3",
   "metadata": {},
   "outputs": [
    {
     "name": "stdout",
     "output_type": "stream",
     "text": [
      "5\n"
     ]
    }
   ],
   "source": [
    "def smallest_number(lst):\n",
    "    smallest = lst[0]\n",
    "    for i in lst:\n",
    "        if i<smallest:\n",
    "            smallest = i\n",
    "    return smallest\n",
    "\n",
    "lst = [10,60,50,30,20, 5]\n",
    "print(smallest_number(lst))"
   ]
  },
  {
   "cell_type": "markdown",
   "id": "ad7d4bd2",
   "metadata": {},
   "source": [
    "# Python program to find largest number in a list"
   ]
  },
  {
   "cell_type": "code",
   "execution_count": 24,
   "id": "217652d6",
   "metadata": {},
   "outputs": [
    {
     "name": "stdout",
     "output_type": "stream",
     "text": [
      "60\n"
     ]
    }
   ],
   "source": [
    "def largest_number(lst):\n",
    "    largest = lst[0]\n",
    "    for i in lst:\n",
    "        if i>largest:\n",
    "            largest = i\n",
    "    return largest\n",
    "\n",
    "lst = [10,60,50,30,20, 5]\n",
    "print(largest_number(lst))"
   ]
  },
  {
   "cell_type": "markdown",
   "id": "441c82d6",
   "metadata": {},
   "source": [
    "# Python program to find second largest number in a list"
   ]
  },
  {
   "cell_type": "code",
   "execution_count": 41,
   "id": "9df1421d",
   "metadata": {},
   "outputs": [
    {
     "name": "stdout",
     "output_type": "stream",
     "text": [
      "50\n"
     ]
    }
   ],
   "source": [
    "def second_largest(lst):\n",
    "    largest = lst[0]\n",
    "    for i in lst:\n",
    "        if i>largest:\n",
    "            largest = i\n",
    "            \n",
    "    sec_largest = lst[0]\n",
    "    for i in lst:\n",
    "        if (i>sec_largest) and (i!=largest):\n",
    "            sec_largest=i\n",
    "    return sec_largest\n",
    "\n",
    "lst = [10,60,50,30,20, 5]\n",
    "print(second_largest(lst))"
   ]
  },
  {
   "cell_type": "markdown",
   "id": "01026996",
   "metadata": {},
   "source": [
    "# Python program to find second smllest number in a list"
   ]
  },
  {
   "cell_type": "code",
   "execution_count": 45,
   "id": "0593c159",
   "metadata": {},
   "outputs": [
    {
     "name": "stdout",
     "output_type": "stream",
     "text": [
      "10\n"
     ]
    }
   ],
   "source": [
    "def second_smallest(lst):\n",
    "    smallest = lst[0]\n",
    "    for i in lst:\n",
    "        if i<smallest:\n",
    "            smallest = i\n",
    "            \n",
    "    second_smallest = lst[0]\n",
    "    for i in lst:\n",
    "        if i<second_smallest and i!=smallest:\n",
    "            second_smallest=i\n",
    "    return second_smallest\n",
    "\n",
    "lst = [10,60,50,30,20, 5]\n",
    "print(second_smallest(lst))"
   ]
  },
  {
   "cell_type": "markdown",
   "id": "8a900d7d",
   "metadata": {},
   "source": [
    "# Python program to print even numbers in a list"
   ]
  },
  {
   "cell_type": "code",
   "execution_count": 71,
   "id": "c28382eb",
   "metadata": {},
   "outputs": [],
   "source": [
    "def print_even_number(lst):\n",
    "    even = []\n",
    "    odd = []\n",
    "    for i in lst:\n",
    "        if i%2==0:\n",
    "            even.append(i)\n",
    "        elif i%2!=0:\n",
    "            odd.append(i)\n",
    "    return even,odd\n",
    "   "
   ]
  },
  {
   "cell_type": "code",
   "execution_count": 72,
   "id": "d5bff45b",
   "metadata": {},
   "outputs": [
    {
     "name": "stdout",
     "output_type": "stream",
     "text": [
      "([2, 4], [1, 3, 5])\n"
     ]
    }
   ],
   "source": [
    "lst = [1,2,3,4,5]\n",
    "print(print_even_number(lst))"
   ]
  },
  {
   "cell_type": "markdown",
   "id": "8d5547b1",
   "metadata": {},
   "source": [
    "# Python program to print all odd numbers in a range"
   ]
  },
  {
   "cell_type": "code",
   "execution_count": 74,
   "id": "2e4f5da9",
   "metadata": {},
   "outputs": [
    {
     "name": "stdout",
     "output_type": "stream",
     "text": [
      "5\n"
     ]
    }
   ],
   "source": [
    "def count_odd(arr):\n",
    "    count = 0\n",
    "    for i in arr:\n",
    "        if i%2!=0:\n",
    "            count += 1\n",
    "    return count\n",
    "\n",
    "num = [1,5,6,7,3,2,9,4]\n",
    "print(count_odd(num))"
   ]
  },
  {
   "cell_type": "markdown",
   "id": "22471650",
   "metadata": {},
   "source": [
    "# Python program to print all even numbers in a range"
   ]
  },
  {
   "cell_type": "code",
   "execution_count": 75,
   "id": "ac79b290",
   "metadata": {},
   "outputs": [
    {
     "name": "stdout",
     "output_type": "stream",
     "text": [
      "3\n"
     ]
    }
   ],
   "source": [
    "def count_even(arr):\n",
    "    count = 0\n",
    "    for i in arr:\n",
    "        if i%2==0:\n",
    "            count += 1\n",
    "    return count\n",
    "\n",
    "num = [1,5,6,7,3,2,9,4]\n",
    "print(count_even(num))"
   ]
  },
  {
   "cell_type": "markdown",
   "id": "5e9befd2",
   "metadata": {},
   "source": [
    "# Python program to count Even and Odd numbers in a List"
   ]
  },
  {
   "cell_type": "code",
   "execution_count": 78,
   "id": "7f244923",
   "metadata": {},
   "outputs": [
    {
     "name": "stdout",
     "output_type": "stream",
     "text": [
      "(5, 5)\n"
     ]
    }
   ],
   "source": [
    "def even_odd_count(arr):\n",
    "    even_count = 0\n",
    "    odd_count = 0\n",
    "    for i in arr:\n",
    "        if i%2!=0:\n",
    "            odd_count += 1\n",
    "        elif i%2==0:\n",
    "            even_count += 1\n",
    "            \n",
    "    return even_count,odd_count\n",
    "\n",
    "arr = [1,2,3,4,5,6,7,8,9,10]\n",
    "print(even_odd_count(arr))"
   ]
  },
  {
   "cell_type": "code",
   "execution_count": null,
   "id": "ec1fe4cd",
   "metadata": {},
   "outputs": [],
   "source": []
  }
 ],
 "metadata": {
  "kernelspec": {
   "display_name": "Python 3 (ipykernel)",
   "language": "python",
   "name": "python3"
  },
  "language_info": {
   "codemirror_mode": {
    "name": "ipython",
    "version": 3
   },
   "file_extension": ".py",
   "mimetype": "text/x-python",
   "name": "python",
   "nbconvert_exporter": "python",
   "pygments_lexer": "ipython3",
   "version": "3.9.7"
  }
 },
 "nbformat": 4,
 "nbformat_minor": 5
}
