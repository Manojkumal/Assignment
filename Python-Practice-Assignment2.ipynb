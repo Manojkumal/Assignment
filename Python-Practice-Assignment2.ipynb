{
 "cells": [
  {
   "cell_type": "markdown",
   "id": "6fb7df20",
   "metadata": {},
   "source": [
    "# Q.1 Implement List comprehensions to produce the following lists. Write List comprehensions to produce the following Lists"
   ]
  },
  {
   "cell_type": "markdown",
   "id": "8fdfaf36",
   "metadata": {},
   "source": [
    "['A', 'C', 'A', 'D', 'G', 'I', ’L’, ‘ D’]\n",
    "\n",
    "['x', 'xx', 'xxx', 'xxxx', 'y', 'yy', 'yyy', 'yyyy', 'z', 'zz', 'zzz', 'zzzz']\n",
    "\n",
    "['x', 'y', 'z', 'xx', 'yy', 'zz', 'xxx', 'yyy', 'zzz', 'xxxx', 'yyyy', 'zzzz']\n",
    "\n",
    "[[2], [3], [4], [3], [4], [5], [4], [5], [6]]\n",
    "\n",
    "[[2, 3, 4, 5], [3, 4, 5, 6], [4, 5, 6, 7], [5, 6, 7, 8]]\n",
    "\n",
    "[(1, 1), (2, 1), (3, 1), (1, 2), (2, 2), (3, 2), (1, 3), (2, 3), (3, 3)]"
   ]
  },
  {
   "cell_type": "code",
   "execution_count": 11,
   "id": "ebda6be0",
   "metadata": {},
   "outputs": [
    {
     "data": {
      "text/plain": [
       "['A', 'C', 'A', 'D', 'G', 'I', 'L', 'D']"
      ]
     },
     "execution_count": 11,
     "metadata": {},
     "output_type": "execute_result"
    }
   ],
   "source": [
    "# 1st sequence\n",
    "str1 = 'ACADGILD'\n",
    "[i for i in str1]"
   ]
  },
  {
   "cell_type": "code",
   "execution_count": 12,
   "id": "ab2a9125",
   "metadata": {},
   "outputs": [
    {
     "data": {
      "text/plain": [
       "['x', 'xx', 'xxx', 'xxxx', 'y', 'yy', 'yyy', 'yyyy', 'z', 'zz', 'zzz', 'zzzz']"
      ]
     },
     "execution_count": 12,
     "metadata": {},
     "output_type": "execute_result"
    }
   ],
   "source": [
    "# 2nd sequence\n",
    "lst = list(\"xyz\")\n",
    "[letter*i for letter in lst for i in range(1,5) ]"
   ]
  },
  {
   "cell_type": "code",
   "execution_count": 13,
   "id": "cb2194e2",
   "metadata": {},
   "outputs": [
    {
     "data": {
      "text/plain": [
       "['x', 'y', 'z', 'xx', 'yy', 'zz', 'xxx', 'yyy', 'zzz', 'xxxx', 'yyyy', 'zzzz']"
      ]
     },
     "execution_count": 13,
     "metadata": {},
     "output_type": "execute_result"
    }
   ],
   "source": [
    "# 3rd sequence \n",
    "lst = list(\"xyz\")\n",
    "\n",
    "[letter*i for i in range(1,5) for letter in lst]"
   ]
  },
  {
   "cell_type": "code",
   "execution_count": 14,
   "id": "b5561693",
   "metadata": {},
   "outputs": [
    {
     "data": {
      "text/plain": [
       "[[2], [3], [4], [3], [4], [5], [4], [5], [6]]"
      ]
     },
     "execution_count": 14,
     "metadata": {},
     "output_type": "execute_result"
    }
   ],
   "source": [
    "[[i+k] for i in range(2,5) for k in range(3)]"
   ]
  },
  {
   "cell_type": "code",
   "execution_count": 15,
   "id": "5c4ac3c7",
   "metadata": {},
   "outputs": [
    {
     "data": {
      "text/plain": [
       "[(1, 1), (2, 1), (3, 1), (1, 2), (2, 2), (3, 2), (1, 3), (2, 3), (3, 3)]"
      ]
     },
     "execution_count": 15,
     "metadata": {},
     "output_type": "execute_result"
    }
   ],
   "source": [
    "# 6th sequence\n",
    "lst = list(range(1,4))\n",
    "[(k ,i) for i in range(1,4) for k in range(1,4)]\n"
   ]
  },
  {
   "cell_type": "markdown",
   "id": "31a70d19",
   "metadata": {},
   "source": [
    "# Q. 2 Implement a function longestWord() that takes a list of words and returns the longest one."
   ]
  },
  {
   "cell_type": "code",
   "execution_count": 16,
   "id": "58db3186",
   "metadata": {},
   "outputs": [],
   "source": [
    "def longestWord(words):\n",
    "    max_len_word = \"\"\n",
    "    for word in words:\n",
    "        if len(word)>len(max_len_word):\n",
    "            max_len_word = word\n",
    "    return max_len_word\n"
   ]
  },
  {
   "cell_type": "code",
   "execution_count": 17,
   "id": "234fcb08",
   "metadata": {},
   "outputs": [],
   "source": [
    "arr = [\"I\", \"am\", \"Sunny\", \"I\", \"am\", \"an\", \"artificial_intelligence\", \"enthusiasts\" ]\n",
    "ob1 = longestWord(arr)"
   ]
  },
  {
   "cell_type": "code",
   "execution_count": 18,
   "id": "5faca1f1",
   "metadata": {},
   "outputs": [
    {
     "name": "stdout",
     "output_type": "stream",
     "text": [
      "artificial_intelligence\n"
     ]
    }
   ],
   "source": [
    "print(ob1)"
   ]
  },
  {
   "cell_type": "markdown",
   "id": "2a800af0",
   "metadata": {},
   "source": [
    "# Q.3 Write a Python Program(with class concepts) to find the area of the triangle using the below formula."
   ]
  },
  {
   "cell_type": "markdown",
   "id": "91d3b631",
   "metadata": {},
   "source": [
    "# area = (s(s-a)(s-b)(s-c)) ** 0.5"
   ]
  },
  {
   "cell_type": "markdown",
   "id": "9215b3ee",
   "metadata": {},
   "source": [
    "# Function to take the length of the sides of triangle from user should be defined in the parent class and function to calculate the area should be defined in subclass."
   ]
  },
  {
   "cell_type": "code",
   "execution_count": 19,
   "id": "12959f8e",
   "metadata": {},
   "outputs": [
    {
     "name": "stdout",
     "output_type": "stream",
     "text": [
      "Area of the triangle = 6.0 unit²\n"
     ]
    }
   ],
   "source": [
    "class Dimensions:\n",
    "    '''Class to define sides of a triangle'''\n",
    "    def __init__(self, sideA, sideB, sideC):\n",
    "        self.a = sideA\n",
    "        self.b = sideB\n",
    "        self.c = sideC\n",
    "\n",
    "    def semiperimeter(self):\n",
    "        # calculate semi perimeter\n",
    "        s = (self.a + self.b + self.c)/2\n",
    "        return s\n",
    "\n",
    "class Area(Dimensions):\n",
    "    '''\n",
    "    Class to calculate the area of triangle\n",
    "    based on Heron's Formula\n",
    "    who's side are defined in Dimensions class\n",
    "    '''\n",
    "    def __init__(self, *args):\n",
    "         super().__init__(*args)\n",
    "\n",
    "    def calculate_area(self):\n",
    "        # get the semi perimeter from Dimension parent class\n",
    "        s = super().semiperimeter()\n",
    "        # calculate area\n",
    "        area = (s*(s-self.a)*(s-self.b)*(s-self.c)) ** 0.5\n",
    "        print(f\"Area of the triangle = {area} unit\\u00b2\")\n",
    "        return area\n",
    "\n",
    "area = Area(3,4,5)\n",
    "_ = area.calculate_area()"
   ]
  },
  {
   "cell_type": "markdown",
   "id": "b5b339a0",
   "metadata": {},
   "source": [
    "# Q.4 Write a function filter_long_words() that takes a list of words and an integer n and returns the list of words that are longer than n.\n"
   ]
  },
  {
   "cell_type": "code",
   "execution_count": 20,
   "id": "bd31bff3",
   "metadata": {},
   "outputs": [],
   "source": [
    "def filter_long_words(words,n):\n",
    "    result = []\n",
    "    for word in words:\n",
    "        if len(word)>n:\n",
    "            result.append(word)\n",
    "    return result"
   ]
  },
  {
   "cell_type": "code",
   "execution_count": 21,
   "id": "3d8d3863",
   "metadata": {},
   "outputs": [
    {
     "name": "stdout",
     "output_type": "stream",
     "text": [
      "longest words are = \n",
      "['Sunny', 'artificial_intelligence', 'enthusiasts']\n"
     ]
    }
   ],
   "source": [
    "arr = [\"I\", \"am\", \"Sunny\", \"I\", \"am\", \"an\", \"artificial_intelligence\", \"enthusiasts\" ]\n",
    "n=3\n",
    "result = filter_long_words(arr,n)\n",
    "print(f\"longest words are = \\n{result}\")\n"
   ]
  },
  {
   "cell_type": "markdown",
   "id": "bdcdba97",
   "metadata": {},
   "source": [
    "# Q.5 Write a Python program using function concept that maps list of words into a list of integers representing the lengths of the corresponding words."
   ]
  },
  {
   "cell_type": "code",
   "execution_count": 22,
   "id": "98bc91b6",
   "metadata": {},
   "outputs": [
    {
     "name": "stdout",
     "output_type": "stream",
     "text": [
      "output = [2, 3, 4]\n",
      "\n"
     ]
    }
   ],
   "source": [
    "def get_length_of_words(words):\n",
    "    return [len(word) for word in words]\n",
    "\n",
    "words = [\"ab\", \"cde\", \"erty\"]\n",
    "result = get_length_of_words(words)\n",
    "print(f\"output = {result}\\n\")"
   ]
  },
  {
   "cell_type": "markdown",
   "id": "46297b65",
   "metadata": {},
   "source": [
    "# Q.6 Write a Python function which takes a character (i.e. a string of length 1) and returns True if it is a vowel, False otherwise."
   ]
  },
  {
   "cell_type": "code",
   "execution_count": 23,
   "id": "bdec3cca",
   "metadata": {},
   "outputs": [],
   "source": [
    "def vowel_or_not(character):\n",
    "    vowel = ['a','e','i','o','u']\n",
    "    if character in vowel:\n",
    "        return True\n",
    "    return False"
   ]
  },
  {
   "cell_type": "code",
   "execution_count": 24,
   "id": "999bfe01",
   "metadata": {},
   "outputs": [
    {
     "name": "stdout",
     "output_type": "stream",
     "text": [
      "result is=True\n"
     ]
    }
   ],
   "source": [
    "character = \"a\"\n",
    "result = vowel_or_not(character)\n",
    "print(f\"result is={result}\")"
   ]
  },
  {
   "cell_type": "code",
   "execution_count": 25,
   "id": "cb45cc4c",
   "metadata": {},
   "outputs": [
    {
     "name": "stdout",
     "output_type": "stream",
     "text": [
      "result is=False\n"
     ]
    }
   ],
   "source": [
    "character = \"z\"\n",
    "result = vowel_or_not(character)\n",
    "print(f\"result is={result}\")"
   ]
  },
  {
   "cell_type": "markdown",
   "id": "0c40a06d",
   "metadata": {},
   "source": [
    "# to compare results of in-built functions and custom functions"
   ]
  },
  {
   "cell_type": "code",
   "execution_count": 26,
   "id": "8b6b00ef",
   "metadata": {},
   "outputs": [],
   "source": [
    "class TestCustomFunctions:\n",
    "    '''class to test custom functions with in-built functions'''\n",
    "    def __init__(self, iterable=None, testFunctions=None, \n",
    "                 myCustomFunc=None, inBuiltFunc=None):\n",
    "        self.iterable = iterable # array \n",
    "        self.testFunctions = testFunctions # array of functions to apply\n",
    "        self.myCustomFunc = myCustomFunc # my function to test\n",
    "        self.inBuiltFunc = inBuiltFunc # in built python function\n",
    "\n",
    "    def getSolution(self, testFunc):\n",
    "        '''compare solution of custom and inBuilt function'''\n",
    "        # store result of custom function\n",
    "        myResult = self.myCustomFunc(f=testFunc, array=self.iterable)\n",
    "        \n",
    "        # store result of in built function\n",
    "        inBuiltFunctionResult = self.inBuiltFunc(testFunc, self.iterable)\n",
    "        \n",
    "        # check if filter function then for inBuilt function\n",
    "        # one has to return result as a list\n",
    "        if self.inBuiltFunc == filter:\n",
    "            return myResult == list(inBuiltFunctionResult)\n",
    "        return myResult == inBuiltFunctionResult\n",
    "\n",
    "    def test(self):\n",
    "        '''\n",
    "        assertion test to compare results\n",
    "        of custom and inBuilt functions\n",
    "        '''\n",
    "        # install nose lib if not installed\n",
    "        try:\n",
    "            from nose.tools import assert_equal\n",
    "        except:\n",
    "            print(\"installing nose library to proceed further\")\n",
    "            import os\n",
    "            os.system(\"pip install nose\")\n",
    "            # now load nose lib as it got failed before\n",
    "            from nose.tools import assert_equal\n",
    "            \n",
    "        # run tests - \n",
    "        try:\n",
    "            for testFunc in self.testFunctions:\n",
    "                assert_equal(self.getSolution(testFunc), True)\n",
    "                print(f\"result for {testFunc}\")\n",
    "                print(\"--\"*20)\n",
    "            print(\"ALL TEST CASES PASSED !!\")\n",
    "        except:\n",
    "            print(\"TEST FAILED !!\")"
   ]
  },
  {
   "cell_type": "markdown",
   "id": "e14da34e",
   "metadata": {},
   "source": [
    "# Q7. Write a Python Program to implement your own myreduce() function which works exactly like Python's built-in function reduce()"
   ]
  },
  {
   "cell_type": "code",
   "execution_count": 27,
   "id": "99a60f79",
   "metadata": {},
   "outputs": [
    {
     "name": "stdout",
     "output_type": "stream",
     "text": [
      "result of addition operator is 21\n",
      "\n",
      "result of division operator is 0.001388888888888889\n",
      "\n",
      "result of greaterthan operator is False\n",
      "\n",
      "result of using lambda function is 1\n",
      "\n"
     ]
    }
   ],
   "source": [
    "def addition(x,y):\n",
    "    return x+y\n",
    "\n",
    "def division(x,y):\n",
    "    return x/y\n",
    "\n",
    "def greaterThan(x,y):\n",
    "    return x>y \n",
    "\n",
    "def myreduce(f=None,array=None):\n",
    "    \"\"\"custom reduce function\"\"\"\n",
    "    #keep the first element of array in the accumulator\n",
    "    accumulator = array[0]\n",
    "    # iterate over the array to accumulate the result in accumulator\n",
    "    for i in array[1:]:\n",
    "        accumulator = f(accumulator,i)\n",
    "    # return the accumulated result\n",
    "    return accumulator\n",
    "\n",
    "arr = [1,2,3,4,5,6]\n",
    "addition_res = myreduce(f = addition,array=arr)\n",
    "print(f\"result of addition operator is {addition_res}\\n\")\n",
    "\n",
    "division_res = myreduce(f=division,array=arr)\n",
    "print(f\"result of division operator is {division_res}\\n\")\n",
    "\n",
    "greater_than_res = myreduce(f=greaterThan,array=arr)\n",
    "print(f\"result of greaterthan operator is {greater_than_res}\\n\")\n",
    "\n",
    "using_lambda_function = myreduce(lambda x,y:x**y, array=arr)\n",
    "print(f'result of using lambda function is {using_lambda_function}\\n')"
   ]
  },
  {
   "cell_type": "raw",
   "id": "45450cd4",
   "metadata": {},
   "source": [
    "\"\"\"\n",
    "how reduce function works\n",
    "arr = [1,2,3,4,5,6] \n",
    "x = current value y = output value\n",
    "x = 1             y = 2             x+y = 3 -----> first iteration\n",
    "x = 3             y = 3             x+y = 6\n",
    "x = 4             y = 6             x+y = 10\n",
    "x = 5             y = 10            x+y = 15\n",
    "x = 6             y = 15            x+y = 21\n",
    "\"\"\""
   ]
  },
  {
   "cell_type": "code",
   "execution_count": 28,
   "id": "5772ea56",
   "metadata": {},
   "outputs": [
    {
     "name": "stdout",
     "output_type": "stream",
     "text": [
      "verifying my custom reduce function w.r.t. in build reduce function...\n",
      "\n",
      "result for <function addition at 0x000001BF9215C280>\n",
      "----------------------------------------\n",
      "result for <function division at 0x000001BF9215CC10>\n",
      "----------------------------------------\n",
      "result for <function greaterThan at 0x000001BF9215C670>\n",
      "----------------------------------------\n",
      "ALL TEST CASES PASSED !!\n"
     ]
    }
   ],
   "source": [
    "from functools import reduce\n",
    "\n",
    "arr = [1,2,3,4,5,6]\n",
    "testingReduce = TestCustomFunctions(iterable=arr,\n",
    "                                   testFunctions=[addition,division,greaterThan],\n",
    "                                   myCustomFunc=myreduce,\n",
    "                                   inBuiltFunc=reduce)\n",
    "print(\"verifying my custom reduce function w.r.t. in build reduce function...\\n\")\n",
    "testingReduce.test()"
   ]
  },
  {
   "cell_type": "markdown",
   "id": "d59549ea",
   "metadata": {},
   "source": [
    "# Q.8 Write a Python program to implement your own myfilter() function which works exactly like Python's built-in function filter()"
   ]
  },
  {
   "cell_type": "code",
   "execution_count": 29,
   "id": "fe13ef92",
   "metadata": {},
   "outputs": [],
   "source": [
    "def is_odd_no(x):\n",
    "    return x%2!=0\n",
    "\n",
    "def is_even_no(x):\n",
    "    return x%2==0\n",
    "\n",
    "def is_vowel(x):\n",
    "    vowel = ['a','e','i','o','u']\n",
    "    if x in vowel:\n",
    "        return True\n",
    "    return False\n",
    "\n",
    "def myFilter(f = None, array = None):\n",
    "    \"\"\"custom filter function\"\"\"\n",
    "    #init empty list of results\n",
    "    result = []\n",
    "    for i in array:\n",
    "        if f(i):\n",
    "            result.append(i)\n",
    "    return result"
   ]
  },
  {
   "cell_type": "code",
   "execution_count": 30,
   "id": "3438a741",
   "metadata": {},
   "outputs": [
    {
     "name": "stdout",
     "output_type": "stream",
     "text": [
      "the odd result is [1, 3, 5, 7, 9]\n",
      "\n",
      "the even result is [2, 4, 6, 8, 0]\n",
      "\n",
      "the result of vowel alphabet is ['e', 'o']\n",
      "\n"
     ]
    }
   ],
   "source": [
    "arr = [1,2,3,4,5,6,7,8,9,0]\n",
    "odd_result = myFilter(f = is_odd_no,array = arr)\n",
    "print(f\"the odd result is {odd_result}\\n\")\n",
    "\n",
    "even_result = myFilter(f = is_even_no,array = arr)\n",
    "print(f\"the even result is {even_result}\\n\")\n",
    "\n",
    "alphaArray = list(\"hello\")\n",
    "vowel_result = myFilter(f = is_vowel,array=alphaArray)\n",
    "print(f\"the result of vowel alphabet is {vowel_result}\\n\")"
   ]
  },
  {
   "cell_type": "code",
   "execution_count": null,
   "id": "7585c93d",
   "metadata": {},
   "outputs": [],
   "source": []
  }
 ],
 "metadata": {
  "kernelspec": {
   "display_name": "Python 3 (ipykernel)",
   "language": "python",
   "name": "python3"
  },
  "language_info": {
   "codemirror_mode": {
    "name": "ipython",
    "version": 3
   },
   "file_extension": ".py",
   "mimetype": "text/x-python",
   "name": "python",
   "nbconvert_exporter": "python",
   "pygments_lexer": "ipython3",
   "version": "3.9.7"
  }
 },
 "nbformat": 4,
 "nbformat_minor": 5
}
