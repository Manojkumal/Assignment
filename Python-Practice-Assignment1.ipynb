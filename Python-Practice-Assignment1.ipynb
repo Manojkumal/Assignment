{
 "cells": [
  {
   "cell_type": "markdown",
   "id": "8879a77f",
   "metadata": {},
   "source": [
    "1. Write a program which will find all such numbers which are divisible by 7 but are not a multiple of 5, between 2000 and 3200 (both included). The numbers obtained should be printed in a comma-separated sequence on a single line."
   ]
  },
  {
   "cell_type": "code",
   "execution_count": 4,
   "id": "5387dd2b",
   "metadata": {},
   "outputs": [],
   "source": [
    "def GetSequence(min_,max_):\n",
    "    result = []\n",
    "    for i in range(min_,max_+1):\n",
    "        if (i%7==0) and (i%5!=0):\n",
    "            result.append(i)\n",
    "    return result\n",
    "    "
   ]
  },
  {
   "cell_type": "code",
   "execution_count": 5,
   "id": "1b663d5b",
   "metadata": {},
   "outputs": [
    {
     "name": "stdout",
     "output_type": "stream",
     "text": [
      "[2002, 2009, 2016, 2023, 2037, 2044, 2051, 2058, 2072, 2079, 2086, 2093, 2107, 2114, 2121, 2128, 2142, 2149, 2156, 2163, 2177, 2184, 2191, 2198, 2212, 2219, 2226, 2233, 2247, 2254, 2261, 2268, 2282, 2289, 2296, 2303, 2317, 2324, 2331, 2338, 2352, 2359, 2366, 2373, 2387, 2394, 2401, 2408, 2422, 2429, 2436, 2443, 2457, 2464, 2471, 2478, 2492, 2499, 2506, 2513, 2527, 2534, 2541, 2548, 2562, 2569, 2576, 2583, 2597, 2604, 2611, 2618, 2632, 2639, 2646, 2653, 2667, 2674, 2681, 2688, 2702, 2709, 2716, 2723, 2737, 2744, 2751, 2758, 2772, 2779, 2786, 2793, 2807, 2814, 2821, 2828, 2842, 2849, 2856, 2863, 2877, 2884, 2891, 2898, 2912, 2919, 2926, 2933, 2947, 2954, 2961, 2968, 2982, 2989, 2996, 3003, 3017, 3024, 3031, 3038, 3052, 3059, 3066, 3073, 3087, 3094, 3101, 3108, 3122, 3129, 3136, 3143, 3157, 3164, 3171, 3178, 3192, 3199]\n"
     ]
    }
   ],
   "source": [
    "num = GetSequence(2000,3201)\n",
    "print(num)"
   ]
  },
  {
   "cell_type": "code",
   "execution_count": 6,
   "id": "81a784d5",
   "metadata": {},
   "outputs": [
    {
     "name": "stdout",
     "output_type": "stream",
     "text": [
      "2002, 2009, 2016, 2023, 2037, 2044, 2051, 2058, 2072, 2079, 2086, 2093, 2107, 2114, 2121, 2128, 2142, 2149, 2156, 2163, 2177, 2184, 2191, 2198, 2212, 2219, 2226, 2233, 2247, 2254, 2261, 2268, 2282, 2289, 2296, 2303, 2317, 2324, 2331, 2338, 2352, 2359, 2366, 2373, 2387, 2394, 2401, 2408, 2422, 2429, 2436, 2443, 2457, 2464, 2471, 2478, 2492, 2499, 2506, 2513, 2527, 2534, 2541, 2548, 2562, 2569, 2576, 2583, 2597, 2604, 2611, 2618, 2632, 2639, 2646, 2653, 2667, 2674, 2681, 2688, 2702, 2709, 2716, 2723, 2737, 2744, 2751, 2758, 2772, 2779, 2786, 2793, 2807, 2814, 2821, 2828, 2842, 2849, 2856, 2863, 2877, 2884, 2891, 2898, 2912, 2919, 2926, 2933, 2947, 2954, 2961, 2968, 2982, 2989, 2996, 3003, 3017, 3024, 3031, 3038, 3052, 3059, 3066, 3073, 3087, 3094, 3101, 3108, 3122, 3129, 3136, 3143, 3157, 3164, 3171, 3178, 3192, 3199, "
     ]
    }
   ],
   "source": [
    "def getSequence(min_, max_):\n",
    "    for i in range(min_, max_ + 1):\n",
    "        if (i%7==0) and (i%5!=0):\n",
    "            print(i, end=', ')\n",
    "\n",
    "getSequence(2000, 3200)"
   ]
  },
  {
   "cell_type": "markdown",
   "id": "e400dc4c",
   "metadata": {},
   "source": [
    "2. Write a Python program to accept the user's first and last name and then getting them printed in the the reverse order with a space between first name and last name"
   ]
  },
  {
   "cell_type": "code",
   "execution_count": 9,
   "id": "c70fa6bd",
   "metadata": {},
   "outputs": [
    {
     "name": "stdout",
     "output_type": "stream",
     "text": [
      "enter a first name Manoj\n",
      "enter a last name Kumal\n",
      "The person name is Kumal Manoj\n"
     ]
    }
   ],
   "source": [
    "def print_reverse(first_name,last_name):\n",
    "    print(f\"The person name is {last_name} {first_name}\")\n",
    "    \n",
    "def print_reverse_EACH(first_name,last_name):\n",
    "    \"\"\"This will reverse each word as well\"\"\"\n",
    "    print(f\"The person name is {last_name[::-1]} {first_name[::-1]}\")\n",
    "    \n",
    "first_name = input(\"enter a first name \")\n",
    "last_name = input(\"enter a last name \")\n",
    "\n",
    "print_reverse(first_name,last_name)\n"
   ]
  },
  {
   "cell_type": "code",
   "execution_count": 10,
   "id": "61476928",
   "metadata": {},
   "outputs": [
    {
     "name": "stdout",
     "output_type": "stream",
     "text": [
      "The person name is lamuK jonaM\n"
     ]
    }
   ],
   "source": [
    "print_reverse_EACH(first_name,last_name)"
   ]
  },
  {
   "cell_type": "markdown",
   "id": "03b7f81f",
   "metadata": {},
   "source": [
    "# 3.Write a Python program to find the volume of a sphere with diameter 12 cm. Formula: V=4/3 π r 3"
   ]
  },
  {
   "cell_type": "code",
   "execution_count": 12,
   "id": "c27f99c5",
   "metadata": {},
   "outputs": [
    {
     "name": "stdout",
     "output_type": "stream",
     "text": [
      "the volume of sphere is 904.78 cubic-cms\n"
     ]
    }
   ],
   "source": [
    "import math\n",
    "def vol_sphere(r=None):\n",
    "    v = 4/3*math.pi*(r**3)\n",
    "    print(f\"the volume of sphere is {round(v,2)} cubic-cms\")\n",
    "\n",
    "diameter=12\n",
    "vol_sphere(r=diameter/2)"
   ]
  },
  {
   "cell_type": "markdown",
   "id": "5a8ee9c2",
   "metadata": {},
   "source": [
    "# 4.Write a program which accepts a sequence of comma-separated numbers from console and generate a list."
   ]
  },
  {
   "cell_type": "code",
   "execution_count": 17,
   "id": "1ee8fe24",
   "metadata": {},
   "outputs": [
    {
     "name": "stdout",
     "output_type": "stream",
     "text": [
      "enter a number10,20,30,40\n",
      "[10, 20, 30, 40]\n"
     ]
    }
   ],
   "source": [
    "def list_generator(data):\n",
    "    temp = data.split(',')\n",
    "    lst=[int(i) for i in temp]\n",
    "    print(lst)\n",
    "data = input(\"enter a number\")\n",
    "list_generator(data)"
   ]
  },
  {
   "cell_type": "markdown",
   "id": "d9b214ee",
   "metadata": {},
   "source": [
    "# 5. Create the below pattern using nested for loop in Python."
   ]
  },
  {
   "cell_type": "raw",
   "id": "37a9c2a7",
   "metadata": {},
   "source": [
    "'''\n",
    "*  \n",
    "* *  \n",
    "* * * \n",
    "* * * *  \n",
    "* * * * *  \n",
    "* * * *  \n",
    "* * *  \n",
    "* *  \n",
    "* \n",
    "'''\n"
   ]
  },
  {
   "cell_type": "code",
   "execution_count": 24,
   "id": "5feb11bc",
   "metadata": {},
   "outputs": [
    {
     "name": "stdout",
     "output_type": "stream",
     "text": [
      "\n",
      "*\n",
      "**\n",
      "***\n",
      "****\n",
      "*****\n",
      "****\n",
      "***\n",
      "**\n",
      "*\n"
     ]
    }
   ],
   "source": [
    "def draw_pyramid(N):\n",
    "    for i in range(N):\n",
    "        print(\"*\"*i)\n",
    "    for i in range(N,0,-1):\n",
    "        print(\"*\"*i)\n",
    "            \n",
    "draw_pyramid(5)\n"
   ]
  },
  {
   "cell_type": "markdown",
   "id": "16753326",
   "metadata": {},
   "source": [
    "# 6. Write a Python program to reverse a word after accepting the input from the user."
   ]
  },
  {
   "cell_type": "code",
   "execution_count": 27,
   "id": "d8bf4bc8",
   "metadata": {},
   "outputs": [
    {
     "name": "stdout",
     "output_type": "stream",
     "text": [
      "Enter a wordmanoj\n",
      "the reverse word is jonam\n"
     ]
    }
   ],
   "source": [
    "def reverse_word(word):\n",
    "    print(f\"the reverse word is {word[::-1]}\")\n",
    "\n",
    "word = input(\"Enter a word\")\n",
    "reverse_word(word)\n",
    "    "
   ]
  },
  {
   "cell_type": "markdown",
   "id": "737f96d5",
   "metadata": {},
   "source": [
    "# 7. Write a Python Program to print the given string in the format specified in the ​sample output."
   ]
  },
  {
   "cell_type": "markdown",
   "id": "840e7b29",
   "metadata": {},
   "source": [
    "WE, THE PEOPLE OF NEPAL, having solemnly resolved to constitute nepal into a SOVEREIGN, SOCIALIST, SECULAR, DEMOCRATIC REPUBLIC and to secure to all its citizens"
   ]
  },
  {
   "cell_type": "markdown",
   "id": "c2ef7307",
   "metadata": {},
   "source": [
    "output:"
   ]
  },
  {
   "cell_type": "markdown",
   "id": "e727569e",
   "metadata": {},
   "source": [
    "WE, THE PEOPLE OF NEPAL, having solemnly resolved to constitute nepal into a SOVEREIGN, ! SOCIALIST, SECULAR, DEMOCRATIC REPUBLIC and to secure to all its citizens"
   ]
  },
  {
   "cell_type": "code",
   "execution_count": 30,
   "id": "721a0f64",
   "metadata": {},
   "outputs": [
    {
     "data": {
      "text/plain": [
       "'WE, THE PEOPLE OF NEPAL, having solemnly resolved to constitute nepal into a SOVEREIGN, !SOCIALIST, SECULAR, DEMOCRATIC REPUBLIC and to secure to all its citizens'"
      ]
     },
     "execution_count": 30,
     "metadata": {},
     "output_type": "execute_result"
    }
   ],
   "source": [
    "def replace_word(sentence):\n",
    "    output = sentence.replace(\"SOCIALIST\",\"!SOCIALIST\")\n",
    "    return output\n",
    "\n",
    "sentence = \"WE, THE PEOPLE OF NEPAL, having solemnly resolved to constitute nepal into a SOVEREIGN, SOCIALIST, SECULAR, DEMOCRATIC REPUBLIC and to secure to all its citizens\"\n",
    "replace_word(sentence)    "
   ]
  },
  {
   "cell_type": "code",
   "execution_count": null,
   "id": "e378233f",
   "metadata": {},
   "outputs": [],
   "source": []
  }
 ],
 "metadata": {
  "kernelspec": {
   "display_name": "Python 3 (ipykernel)",
   "language": "python",
   "name": "python3"
  },
  "language_info": {
   "codemirror_mode": {
    "name": "ipython",
    "version": 3
   },
   "file_extension": ".py",
   "mimetype": "text/x-python",
   "name": "python",
   "nbconvert_exporter": "python",
   "pygments_lexer": "ipython3",
   "version": "3.9.7"
  }
 },
 "nbformat": 4,
 "nbformat_minor": 5
}
