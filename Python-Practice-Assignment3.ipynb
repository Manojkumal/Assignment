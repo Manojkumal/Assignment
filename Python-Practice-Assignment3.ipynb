{
 "cells": [
  {
   "cell_type": "markdown",
   "id": "37aa3fb3",
   "metadata": {},
   "source": [
    "# Q.1 Write a function to compute 5/0 and use try/except to catch the exceptions."
   ]
  },
  {
   "cell_type": "code",
   "execution_count": 1,
   "id": "84155bb7",
   "metadata": {},
   "outputs": [
    {
     "name": "stdout",
     "output_type": "stream",
     "text": [
      "Error Found: division by zero\n",
      "result of 5/0=Infinity\n"
     ]
    }
   ],
   "source": [
    "def computeDivision(numerator,denominator):\n",
    "    try:\n",
    "        result = numerator/denominator\n",
    "    except ZeroDivisionError as e:\n",
    "        print(f\"Error Found: {e}\")\n",
    "        result = \"Infinity\"\n",
    "    return result\n",
    "\n",
    "numerator =5\n",
    "denominator = 0\n",
    "ans = computeDivision(numerator,denominator)\n",
    "print(f\"result of {numerator}/{denominator}={ans}\")"
   ]
  },
  {
   "cell_type": "markdown",
   "id": "199a098d",
   "metadata": {},
   "source": [
    "# Q.2 Implement a Python program to generate all sentences where subject is in [\"Americans\",\"Indians\"] and verb is in [\"Play\", \"watch\"] and the object is in [\"Baseball\",\"cricket\"]."
   ]
  },
  {
   "cell_type": "raw",
   "id": "87adff40",
   "metadata": {},
   "source": [
    "Hint: Subject,Verb and Object should be declared in the program as shown below.\n",
    "subjects=[\"Americans \",\"Indians\"]\n",
    "verbs=[\"play\",\"watch\"]\n",
    "objects=[\"Baseball\",\"Cricket\"]\n",
    "\n",
    "Output should come as below:\n",
    "Americans play Baseball.\n",
    "Americans play Cricket.\n",
    "Americans watch Baseball.\n",
    "Americans watch Cricket.\n",
    "Indians play Baseball.\n",
    "Indians play Cricket.\n",
    "Indians watch Baseball.\n",
    "Indians watch Cricket."
   ]
  },
  {
   "cell_type": "code",
   "execution_count": 2,
   "id": "3f087942",
   "metadata": {},
   "outputs": [],
   "source": [
    "def generate_sentence(subjects=None,verbs=None,objects=None):\n",
    "    for sub in subjects:\n",
    "        for verb in verbs:\n",
    "            for obj in objects:\n",
    "                print(f\"{sub} {verb} {obj}\")"
   ]
  },
  {
   "cell_type": "code",
   "execution_count": 3,
   "id": "3d948ba7",
   "metadata": {},
   "outputs": [
    {
     "name": "stdout",
     "output_type": "stream",
     "text": [
      "Americans  play Baseball\n",
      "Americans  play Cricket\n",
      "Americans  watch Baseball\n",
      "Americans  watch Cricket\n",
      "Indians play Baseball\n",
      "Indians play Cricket\n",
      "Indians watch Baseball\n",
      "Indians watch Cricket\n"
     ]
    }
   ],
   "source": [
    "subjects = [\"Americans \",\"Indians\"]\n",
    "verbs=[\"play\",\"watch\"]\n",
    "objects=[\"Baseball\",\"Cricket\"]\n",
    "\n",
    "generate_sentence(subjects,verbs,objects)"
   ]
  },
  {
   "cell_type": "markdown",
   "id": "838a5ee3",
   "metadata": {},
   "source": [
    "Q.3 Write a function so that the columns of the output matrix are powers of the input vector.\n",
    "The order of the powers is determined by the increasing boolean argument. Specifically, when\n",
    "increasing is False, the i-th output column is the input vector raised element-wise to the power\n",
    "of N - i - 1."
   ]
  },
  {
   "cell_type": "markdown",
   "id": "6d326047",
   "metadata": {},
   "source": [
    "# Write a program to check the prime number"
   ]
  },
  {
   "cell_type": "code",
   "execution_count": 4,
   "id": "a4893fab",
   "metadata": {},
   "outputs": [
    {
     "data": {
      "text/plain": [
       "False"
      ]
     },
     "execution_count": 4,
     "metadata": {},
     "output_type": "execute_result"
    }
   ],
   "source": [
    "def check_prime(nums): # nums =3\n",
    "    count = 0\n",
    "    for num in range(1,nums+1): # 1 to 4\n",
    "        if (nums%num==0):\n",
    "            count += 1\n",
    "            \n",
    "    if (count==2):\n",
    "        return True\n",
    "    else:\n",
    "        return False\n",
    "    \n",
    "check_prime(6)"
   ]
  },
  {
   "cell_type": "raw",
   "id": "4d438779",
   "metadata": {},
   "source": [
    "Problem Statement\n",
    "Q.1 Given a sequence of n values x1, x2, ..., xn and a window size k>0, the k-th moving average of the given sequence is defined as follows:\n",
    "\n",
    "The moving average sequence has n-k+1 elements as shown below. The moving averages with k=4 of a ten-value sequence (n=10) is shown below\n",
    "\n",
    "i 1 2 3 4 5 6 7 8 9 10\n",
    "===== == == == == == == == == == ==\n",
    "Input 10 20 30 40 50 60 70 80 90 100\n",
    "y1 25 = (10+20+30+40)/4\n",
    "y2 35 = (20+30+40+50)/4\n",
    "y3 45 = (30+40+50+60)/4\n",
    "y4 55 = (40+50+60+70)/4\n",
    "y5 65 = (50+60+70+80)/4\n",
    "y6 75 = (60+70+80+90)/4\n",
    "y7 85 = (70+80+90+100)/4\n",
    "\n",
    "Thus, the moving average sequence has n-k+1=10-4+1=7 values.\n",
    "\n",
    "Write a function to find moving average in an array over a window:\n",
    "\n",
    "Test it over [3, 5, 7, 2, 8, 10, 11, 65, 72, 81, 99, 100, 150] and window of 3."
   ]
  },
  {
   "cell_type": "code",
   "execution_count": 10,
   "id": "f48e8f64",
   "metadata": {},
   "outputs": [],
   "source": [
    "def moving_average_sequence(arr=None,window=None):\n",
    "    \"\"\"Moving Average Sequence\"\"\"\n",
    "    n = len(arr)\n",
    "    k = window\n",
    "    # using list comprehension to generate the window and rounding up\n",
    "    # the results to upto 2 decimal position\n",
    "    result = [round(sum(arr[i:i+k])/k,2) for i in range(n-k+1)]\n",
    "    \n",
    "    # iterate through the result list and print it\n",
    "    for idx, val in enumerate(result):\n",
    "        print(f\"y{idx+1} {val}\")\n",
    "    return result\n",
    "    "
   ]
  },
  {
   "cell_type": "code",
   "execution_count": 11,
   "id": "7c0363d4",
   "metadata": {},
   "outputs": [
    {
     "name": "stdout",
     "output_type": "stream",
     "text": [
      "y1 25.0\n",
      "y2 35.0\n",
      "y3 45.0\n",
      "y4 55.0\n",
      "y5 65.0\n",
      "y6 75.0\n",
      "y7 85.0\n"
     ]
    },
    {
     "data": {
      "text/plain": [
       "[25.0, 35.0, 45.0, 55.0, 65.0, 75.0, 85.0]"
      ]
     },
     "execution_count": 11,
     "metadata": {},
     "output_type": "execute_result"
    }
   ],
   "source": [
    "k = 4\n",
    "arr = [10, 20, 30, 40, 50, 60, 70, 80, 90, 100]\n",
    "moving_average_sequence(arr=arr,window=k)"
   ]
  },
  {
   "cell_type": "markdown",
   "id": "1db6944c",
   "metadata": {},
   "source": [
    "# Q.2 How-to-count-distance-to-the-previous-zero For each value, count the difference back to the previous zero (or the start of the Series, whichever is closer) create a new column 'Y' Consider a DataFrame df where there is an integer column 'X'"
   ]
  },
  {
   "cell_type": "markdown",
   "id": "a153a547",
   "metadata": {},
   "source": [
    "import pandas as pd\n",
    "df = pd.DataFrame({'X': [7, 2, 0, 3, 4, 2, 5, 0, 3, 4]})"
   ]
  },
  {
   "cell_type": "code",
   "execution_count": 27,
   "id": "2061f34c",
   "metadata": {},
   "outputs": [],
   "source": [
    "import pandas as pd\n",
    "df = pd.DataFrame({'X': [7, 2, 0, 3, 4, 2, 5, 0, 3, 4]})"
   ]
  },
  {
   "cell_type": "code",
   "execution_count": 31,
   "id": "26e20d7d",
   "metadata": {},
   "outputs": [
    {
     "data": {
      "text/html": [
       "<div>\n",
       "<style scoped>\n",
       "    .dataframe tbody tr th:only-of-type {\n",
       "        vertical-align: middle;\n",
       "    }\n",
       "\n",
       "    .dataframe tbody tr th {\n",
       "        vertical-align: top;\n",
       "    }\n",
       "\n",
       "    .dataframe thead th {\n",
       "        text-align: right;\n",
       "    }\n",
       "</style>\n",
       "<table border=\"1\" class=\"dataframe\">\n",
       "  <thead>\n",
       "    <tr style=\"text-align: right;\">\n",
       "      <th></th>\n",
       "      <th>X</th>\n",
       "      <th>Y</th>\n",
       "    </tr>\n",
       "  </thead>\n",
       "  <tbody>\n",
       "    <tr>\n",
       "      <th>0</th>\n",
       "      <td>7</td>\n",
       "      <td>1</td>\n",
       "    </tr>\n",
       "    <tr>\n",
       "      <th>1</th>\n",
       "      <td>2</td>\n",
       "      <td>2</td>\n",
       "    </tr>\n",
       "    <tr>\n",
       "      <th>2</th>\n",
       "      <td>0</td>\n",
       "      <td>0</td>\n",
       "    </tr>\n",
       "    <tr>\n",
       "      <th>3</th>\n",
       "      <td>3</td>\n",
       "      <td>1</td>\n",
       "    </tr>\n",
       "    <tr>\n",
       "      <th>4</th>\n",
       "      <td>4</td>\n",
       "      <td>2</td>\n",
       "    </tr>\n",
       "    <tr>\n",
       "      <th>5</th>\n",
       "      <td>2</td>\n",
       "      <td>3</td>\n",
       "    </tr>\n",
       "    <tr>\n",
       "      <th>6</th>\n",
       "      <td>5</td>\n",
       "      <td>4</td>\n",
       "    </tr>\n",
       "    <tr>\n",
       "      <th>7</th>\n",
       "      <td>0</td>\n",
       "      <td>0</td>\n",
       "    </tr>\n",
       "    <tr>\n",
       "      <th>8</th>\n",
       "      <td>3</td>\n",
       "      <td>1</td>\n",
       "    </tr>\n",
       "    <tr>\n",
       "      <th>9</th>\n",
       "      <td>4</td>\n",
       "      <td>2</td>\n",
       "    </tr>\n",
       "  </tbody>\n",
       "</table>\n",
       "</div>"
      ],
      "text/plain": [
       "   X  Y\n",
       "0  7  1\n",
       "1  2  2\n",
       "2  0  0\n",
       "3  3  1\n",
       "4  4  2\n",
       "5  2  3\n",
       "6  5  4\n",
       "7  0  0\n",
       "8  3  1\n",
       "9  4  2"
      ]
     },
     "execution_count": 31,
     "metadata": {},
     "output_type": "execute_result"
    }
   ],
   "source": [
    "dist = 0\n",
    "temp = []\n",
    "\n",
    "for _,val in enumerate(df.X):\n",
    "    if val:\n",
    "        dist += 1\n",
    "        temp.append(dist)\n",
    "        \n",
    "    else:\n",
    "        dist = 0\n",
    "        temp.append(dist)\n",
    "        \n",
    "df['Y'] = temp\n",
    "df.head(10)"
   ]
  },
  {
   "cell_type": "markdown",
   "id": "dc31ecb8",
   "metadata": {},
   "source": [
    "# Q1. Write a Python program to get the string from the given string where all the occurrence of its first char has been changed to '$,' except first char itself?"
   ]
  },
  {
   "cell_type": "raw",
   "id": "12d8efeb",
   "metadata": {},
   "source": [
    "Sample String: 'prospect'\n",
    "Expected Result : 'pros$ect'"
   ]
  },
  {
   "cell_type": "code",
   "execution_count": 38,
   "id": "63816a3c",
   "metadata": {},
   "outputs": [],
   "source": [
    "def repeate_character_replace(String=None, replacement=\"$\"):\n",
    "    '''\n",
    "    replace all the occurances of chars in input string with \n",
    "    \"$\" by default except the first occurance\n",
    "    '''\n",
    "    # init result with empty string\n",
    "    result = str()\n",
    "\n",
    "    # enumerate over input string\n",
    "    for i, char in enumerate(String):\n",
    "        # if count of char in given string till count i+1 is > 1\n",
    "        if String[:i+1].count(char) > 1:\n",
    "            # append result with replacement\n",
    "            result += replacement\n",
    "        else:\n",
    "            # append result with first occurances of char\n",
    "            result += char\n",
    "\n",
    "    return result"
   ]
  },
  {
   "cell_type": "code",
   "execution_count": 41,
   "id": "e1d499fd",
   "metadata": {},
   "outputs": [
    {
     "data": {
      "text/plain": [
       "'pros$ect'"
      ]
     },
     "execution_count": 41,
     "metadata": {},
     "output_type": "execute_result"
    }
   ],
   "source": [
    "words = 'prospect'\n",
    "repeate_character_replace(words)"
   ]
  },
  {
   "cell_type": "code",
   "execution_count": 44,
   "id": "b15f5c09",
   "metadata": {},
   "outputs": [
    {
     "data": {
      "text/plain": [
       "'mis$$$$$p$'"
      ]
     },
     "execution_count": 44,
     "metadata": {},
     "output_type": "execute_result"
    }
   ],
   "source": [
    "str1 =\"mississipi\"\n",
    "repeate_character_replace(String=str1)"
   ]
  },
  {
   "cell_type": "code",
   "execution_count": 45,
   "id": "da6dc40b",
   "metadata": {},
   "outputs": [
    {
     "data": {
      "text/plain": [
       "'mis_____p_'"
      ]
     },
     "execution_count": 45,
     "metadata": {},
     "output_type": "execute_result"
    }
   ],
   "source": [
    "str1 =\"mississipi\"\n",
    "# can specifiy different replacement string\n",
    "repeate_character_replace(String=str1, replacement=\"_\")"
   ]
  },
  {
   "cell_type": "markdown",
   "id": "910cd29f",
   "metadata": {},
   "source": [
    "# Q2. Write a Python program to get the single string from the two given strings, and separated by the space and swap the first two characters of each string?\n"
   ]
  },
  {
   "cell_type": "raw",
   "id": "4aa0dd2e",
   "metadata": {},
   "source": [
    "Sample String : 'abc', 'xyz'.\n",
    "Expected Result: 'xyc abz'"
   ]
  },
  {
   "cell_type": "code",
   "execution_count": 46,
   "id": "4dccbe54",
   "metadata": {},
   "outputs": [],
   "source": [
    "def reverse_with_space(str1=None,str2=None):\n",
    "    final1 = str2[:2]+str1[2:]\n",
    "    final2 = str1[:2]+str2[2:]\n",
    "    print(f\"{final1} {final2}\\n\")"
   ]
  },
  {
   "cell_type": "code",
   "execution_count": 47,
   "id": "0516bc81",
   "metadata": {},
   "outputs": [
    {
     "name": "stdout",
     "output_type": "stream",
     "text": [
      "xyc abz\n",
      "\n"
     ]
    }
   ],
   "source": [
    "str='abc'\n",
    "str1='xyz'\n",
    "reverse_with_space(str1=str,str2=str1)"
   ]
  },
  {
   "cell_type": "code",
   "execution_count": 48,
   "id": "b5e73c24",
   "metadata": {},
   "outputs": [
    {
     "name": "stdout",
     "output_type": "stream",
     "text": [
      "Wollo Herld\n",
      "\n"
     ]
    }
   ],
   "source": [
    "string_1 = \"Hello\"\n",
    "string_2 = \"World\"\n",
    "reverse_with_space(string_1, string_2)"
   ]
  },
  {
   "cell_type": "markdown",
   "id": "c2f71cfb",
   "metadata": {},
   "source": [
    "# Q3. Write the Python program to add 'ing' at the end of the given string (length of the string should be at least 3). If given string already ends with 'ing,' then add 'ly' instead. If string length of the given string is less than 3, leave it unchanged?"
   ]
  },
  {
   "cell_type": "raw",
   "id": "84bf1ccd",
   "metadata": {},
   "source": [
    "Sample string: ' abc '\n",
    "Expected result: ' abcing '\n",
    "Sample string: ' string '\n",
    "Expected result: ' stringly '"
   ]
  },
  {
   "cell_type": "code",
   "execution_count": 19,
   "id": "d52a0d09",
   "metadata": {},
   "outputs": [],
   "source": [
    "def add_post_fix(str):\n",
    "    \"\"\"function to add conditional post fix in the input \"\"\"\n",
    "    # stop execution and return a msg in case length os input\n",
    "    # string is less than 3\n",
    "    if len(str)<3:\n",
    "        return \"enter a string > 3\"\n",
    "    \n",
    "    # if ends with ing then append input string with \"ly\"\n",
    "    if (str.endswith('ing')):\n",
    "        return str + 'ly'\n",
    "    \n",
    "    \n",
    "    return str + 'ing'\n",
    "   \n",
    "            "
   ]
  },
  {
   "cell_type": "code",
   "execution_count": 20,
   "id": "24a6042a",
   "metadata": {},
   "outputs": [],
   "source": [
    "case_1 = \"hi\"      # less than 3 case\n",
    "case_2 = \"sky\"     # without ing case\n",
    "case_3 = \"loving\"  # with ing case"
   ]
  },
  {
   "cell_type": "code",
   "execution_count": 21,
   "id": "cb9bd481",
   "metadata": {},
   "outputs": [
    {
     "name": "stdout",
     "output_type": "stream",
     "text": [
      "entered string: hi, \n",
      " result: enter a string > 3\n",
      "--------------------------------------------------\n",
      "entered string: sky, \n",
      " result: skying\n",
      "--------------------------------------------------\n",
      "entered string: loving, \n",
      " result: lovingly\n",
      "--------------------------------------------------\n"
     ]
    }
   ],
   "source": [
    "print(f\"entered string: {case_1}, \\n result: {add_post_fix(case_1)}\")\n",
    "print(\"-----\"*10)\n",
    "print(f\"entered string: {case_2}, \\n result: {add_post_fix(case_2)}\")\n",
    "print(\"-----\"*10)\n",
    "print(f\"entered string: {case_3}, \\n result: {add_post_fix(case_3)}\")\n",
    "print(\"-----\"*10)"
   ]
  },
  {
   "cell_type": "markdown",
   "id": "5f7386fa",
   "metadata": {},
   "source": [
    "# Q5. Write the Python program to remove the characters which have odd index values of a given string."
   ]
  },
  {
   "cell_type": "code",
   "execution_count": 22,
   "id": "eeb28e99",
   "metadata": {},
   "outputs": [
    {
     "name": "stdout",
     "output_type": "stream",
     "text": [
      "['l', 'u', 'y', 'a']\n"
     ]
    }
   ],
   "source": [
    "str = \"cloudyday\"\n",
    "result = [str[i] for i in range(1,len(str),2)]\n",
    "print(result)"
   ]
  },
  {
   "cell_type": "markdown",
   "id": "b9df3206",
   "metadata": {},
   "source": [
    "# Q8. Write the Python program to count occurrences of a substring in a String?"
   ]
  },
  {
   "cell_type": "code",
   "execution_count": 10,
   "id": "9dcf2c83",
   "metadata": {},
   "outputs": [],
   "source": [
    "def occurance_of_substring(string,substring):\n",
    "    n = len(string)\n",
    "    k = len(substring)\n",
    "    count = 0\n",
    "    for i in range(n-k+1):\n",
    "        if substring==string[i:i+k]:\n",
    "            count += 1\n",
    "            \n",
    "    return count"
   ]
  },
  {
   "cell_type": "code",
   "execution_count": 11,
   "id": "360706ea",
   "metadata": {},
   "outputs": [
    {
     "name": "stdout",
     "output_type": "stream",
     "text": [
      "the number of substring is 2\n"
     ]
    }
   ],
   "source": [
    "substring = \"manoj\"\n",
    "string = \"manoj is nice person and manoj is hard working\"\n",
    "print(f\"the number of substring is {occurance_of_substring(string,substring)}\")"
   ]
  },
  {
   "cell_type": "markdown",
   "id": "64c0e461",
   "metadata": {},
   "source": [
    "# Python program to print even length words in a string"
   ]
  },
  {
   "cell_type": "code",
   "execution_count": 1,
   "id": "ade4d87f",
   "metadata": {},
   "outputs": [
    {
     "name": "stdout",
     "output_type": "stream",
     "text": [
      "This is python language "
     ]
    }
   ],
   "source": [
    "def even_words(strings):\n",
    "    # split the string \n",
    "    s = strings.split(\" \")\n",
    "    \n",
    "    # iterate in words of string \n",
    "    for words in s:\n",
    "        \n",
    "        if (len(words)%2==0):\n",
    "            print(words,end=\" \")\n",
    "\n",
    "strings = \"This is a python language\"\n",
    "even_words(strings)"
   ]
  },
  {
   "cell_type": "markdown",
   "id": "9d56ad68",
   "metadata": {},
   "source": [
    "Write the python function to get a string made of its first three characters of a specified string. If the length of the string is less than 3 then return the original string."
   ]
  },
  {
   "cell_type": "markdown",
   "id": "66a0d856",
   "metadata": {},
   "source": [
    "1. Sample function and result :\n",
    "2. first-three('ipy') -> ipy\n",
    "3. first-three('python') -> pyt"
   ]
  },
  {
   "cell_type": "code",
   "execution_count": 2,
   "id": "000c08f5",
   "metadata": {},
   "outputs": [],
   "source": [
    "def first_three(string):\n",
    "    print(f\"Input String: {string}\")\n",
    "    if len(string)<=3:\n",
    "        return string\n",
    "    return string[:3]"
   ]
  },
  {
   "cell_type": "code",
   "execution_count": 3,
   "id": "5878a13e",
   "metadata": {},
   "outputs": [
    {
     "name": "stdout",
     "output_type": "stream",
     "text": [
      "Input String: ipy\n",
      "result1: ipy\n",
      "\n",
      "Input String: python\n",
      "result2: pyt\n",
      "\n",
      "Input String: Sunny\n",
      "result3: Sun\n",
      "\n",
      "Input String: Jet\n",
      "result4: Jet\n",
      "\n"
     ]
    }
   ],
   "source": [
    "result1 = first_three(\"ipy\")\n",
    "print(f\"result1: {result1}\\n\")\n",
    "result2 = first_three(\"python\")\n",
    "print(f\"result2: {result2}\\n\")\n",
    "result3 = first_three(\"Sunny\")\n",
    "print(f\"result3: {result3}\\n\")\n",
    "result4 = first_three(\"Jet\")\n",
    "print(f\"result4: {result4}\\n\")"
   ]
  },
  {
   "cell_type": "markdown",
   "id": "c00124e0",
   "metadata": {},
   "source": [
    " Write the Python program to count the number of strings where the string length is 2 or more, and first and last character are same from a given list of strings."
   ]
  },
  {
   "cell_type": "markdown",
   "id": "8dad0310",
   "metadata": {},
   "source": [
    "Sample List : ['abc', 'xyz', 'wxw', '1331']\n",
    "Expected Result: 2"
   ]
  },
  {
   "cell_type": "code",
   "execution_count": 20,
   "id": "0ba64563",
   "metadata": {},
   "outputs": [
    {
     "name": "stdout",
     "output_type": "stream",
     "text": [
      "2\n"
     ]
    }
   ],
   "source": [
    "Strings = ['abc', 'xyz', 'wxw', '1331']\n",
    "count = 0\n",
    "for word in Strings:\n",
    "    if (len(word) > 2 and (word[0]==word[-1])):\n",
    "        count += 1\n",
    "print(count) "
   ]
  },
  {
   "cell_type": "markdown",
   "id": "f43c8d36",
   "metadata": {},
   "source": [
    "# Write the Python program to find the list of words that are longer than n from a given list of words?"
   ]
  },
  {
   "cell_type": "code",
   "execution_count": 21,
   "id": "4406424f",
   "metadata": {},
   "outputs": [],
   "source": [
    "def getlongerThanN(string, N):\n",
    "    return [i for i in string if len(i)>N]"
   ]
  },
  {
   "cell_type": "code",
   "execution_count": 23,
   "id": "0a33cd2f",
   "metadata": {},
   "outputs": [
    {
     "data": {
      "text/plain": [
       "['Green', 'White', 'Black', 'Yellow']"
      ]
     },
     "execution_count": 23,
     "metadata": {},
     "output_type": "execute_result"
    }
   ],
   "source": [
    "SampleList = ['Red', 'Green', 'White', 'Black', 'Pink', 'Yellow']\n",
    "getlongerThanN(SampleList, 4)"
   ]
  },
  {
   "cell_type": "markdown",
   "id": "fa5c5bb7",
   "metadata": {},
   "source": [
    "# Python – Uppercase Half String"
   ]
  },
  {
   "cell_type": "code",
   "execution_count": 5,
   "id": "bc04f072",
   "metadata": {},
   "outputs": [],
   "source": [
    "def uppercase_half(string):\n",
    "    n  = len(string)//2\n",
    "    res = ''\n",
    "    for i in range(len(string)):\n",
    "        if i>= n:\n",
    "            res += string[i].upper()\n",
    "        else:\n",
    "            res += string[i]\n",
    "            \n",
    "    return res\n",
    "    "
   ]
  },
  {
   "cell_type": "code",
   "execution_count": 6,
   "id": "3933ac20",
   "metadata": {},
   "outputs": [
    {
     "data": {
      "text/plain": [
       "'manojKUMAL'"
      ]
     },
     "execution_count": 6,
     "metadata": {},
     "output_type": "execute_result"
    }
   ],
   "source": [
    "string = \"manojkumal\"\n",
    "uppercase_half(string)"
   ]
  },
  {
   "cell_type": "markdown",
   "id": "b3eee96c",
   "metadata": {},
   "source": [
    "# Python program to capitalize the first and last character of each word in a string"
   ]
  },
  {
   "cell_type": "code",
   "execution_count": 19,
   "id": "d2fe38c6",
   "metadata": {},
   "outputs": [
    {
     "data": {
      "text/plain": [
       "'ILovEPythoN'"
      ]
     },
     "execution_count": 19,
     "metadata": {},
     "output_type": "execute_result"
    }
   ],
   "source": [
    "def capitalize_first_last(string):\n",
    "    s = string.split(\" \")\n",
    "    st = ''\n",
    "    for word in s:\n",
    "        if len(word)>1:\n",
    "            st += word[0].upper()+word[1:-1]+word[-1].upper()\n",
    "        else:\n",
    "            st += word[0].upper()\n",
    "    return st\n",
    "str = \"this is python programming lanugage\"\n",
    "str1 = \"i love python\"\n",
    "capitalize_first_last(str)\n",
    "capitalize_first_last(str1)"
   ]
  },
  {
   "cell_type": "markdown",
   "id": "d66de957",
   "metadata": {},
   "source": [
    "# Python program to check if a string has at least one letter and one number"
   ]
  },
  {
   "cell_type": "code",
   "execution_count": 32,
   "id": "ff14fdfd",
   "metadata": {},
   "outputs": [
    {
     "data": {
      "text/plain": [
       "True"
      ]
     },
     "execution_count": 32,
     "metadata": {},
     "output_type": "execute_result"
    }
   ],
   "source": [
    "def check_letter_number(str):\n",
    "    flag_a = False\n",
    "    flag_i = False\n",
    "    for i in str:\n",
    "        if i.isalpha():\n",
    "            flag_a = True\n",
    "        if i.isdigit():\n",
    "            flag_i = True\n",
    "    return flag_a and flag_i\n",
    "        \n",
    "string = \"manoj0213\"\n",
    "check_letter_number(string)"
   ]
  },
  {
   "cell_type": "markdown",
   "id": "d2900219",
   "metadata": {},
   "source": [
    "# Program to accept the strings which contains all vowels"
   ]
  },
  {
   "cell_type": "code",
   "execution_count": 36,
   "id": "9675cc16",
   "metadata": {},
   "outputs": [
    {
     "name": "stdout",
     "output_type": "stream",
     "text": [
      "Accepted!!\n",
      "Accepted!!\n",
      "Accepted!!\n",
      "Accepted!!\n",
      "Accepted!!\n",
      "Accepted!!\n",
      "Accepted!!\n",
      "Accepted!!\n",
      "Accepted!!\n"
     ]
    }
   ],
   "source": [
    "def accept_vowel(str):\n",
    "    vowel = {'a','e'}\n",
    "    for i in str:\n",
    "        if i in vowel:\n",
    "            print(\"Accepted!!\")\n",
    "        else:\n",
    "            print(\"Not Accected!!\")\n",
    "            \n",
    "sttr = \"eaiouauio\"\n",
    "accept_vowel(sttr)"
   ]
  },
  {
   "cell_type": "code",
   "execution_count": null,
   "id": "c99ec9e6",
   "metadata": {},
   "outputs": [],
   "source": []
  }
 ],
 "metadata": {
  "kernelspec": {
   "display_name": "Python 3 (ipykernel)",
   "language": "python",
   "name": "python3"
  },
  "language_info": {
   "codemirror_mode": {
    "name": "ipython",
    "version": 3
   },
   "file_extension": ".py",
   "mimetype": "text/x-python",
   "name": "python",
   "nbconvert_exporter": "python",
   "pygments_lexer": "ipython3",
   "version": "3.9.7"
  }
 },
 "nbformat": 4,
 "nbformat_minor": 5
}
