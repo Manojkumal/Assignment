{
 "cells": [
  {
   "cell_type": "markdown",
   "id": "b0cf77e7",
   "metadata": {},
   "source": [
    "# Count the Number of matching characters in a pair of string"
   ]
  },
  {
   "cell_type": "code",
   "execution_count": 2,
   "id": "b2a6f9c5",
   "metadata": {},
   "outputs": [
    {
     "name": "stdout",
     "output_type": "stream",
     "text": [
      "match character lenth: 4\n"
     ]
    }
   ],
   "source": [
    "def count(str1,str2):\n",
    "    # set of characters of string1\n",
    "    set_str1 = set(str1)\n",
    "    # set of characters of string2\n",
    "    set_str2 = set(str2)\n",
    "    # using (&) intersection mathematical operation on sets\n",
    "    match_str = set_str1 & set_str2\n",
    "    print(\"match character lenth: \"+str(len(match_str)))\n",
    "if __name__ == \"__main__\":\n",
    "    str1 = \"manojkumal\"\n",
    "    str2 = \"manishkc\"\n",
    "    count(str1,str2)"
   ]
  },
  {
   "cell_type": "markdown",
   "id": "1cef1fb7",
   "metadata": {},
   "source": [
    "# Python program to count number of vowels using sets in given string"
   ]
  },
  {
   "cell_type": "code",
   "execution_count": 4,
   "id": "859c751d",
   "metadata": {},
   "outputs": [
    {
     "data": {
      "text/plain": [
       "10"
      ]
     },
     "execution_count": 4,
     "metadata": {},
     "output_type": "execute_result"
    }
   ],
   "source": [
    "def count(str):\n",
    "    count = 0\n",
    "    vowel = ['a','e','o','i','u','A','E','I','O','U']\n",
    "    for i in str:\n",
    "        if i in vowel:\n",
    "            count += 1\n",
    "    return count\n",
    "\n",
    "str = 'manoj is a best friend of rabin'\n",
    "count(str)"
   ]
  },
  {
   "cell_type": "markdown",
   "id": "cdbb6ea2",
   "metadata": {},
   "source": [
    "# Remove all duplicates from a given string in Python"
   ]
  },
  {
   "cell_type": "code",
   "execution_count": 6,
   "id": "949b928a",
   "metadata": {},
   "outputs": [
    {
     "data": {
      "text/plain": [
       "'maylu'"
      ]
     },
     "execution_count": 6,
     "metadata": {},
     "output_type": "execute_result"
    }
   ],
   "source": [
    "def remove_duplicate(str):\n",
    "    duplicate=''\n",
    "    for i in str:\n",
    "        if (i in duplicate):\n",
    "            pass\n",
    "        else:\n",
    "            duplicate += i\n",
    "    return duplicate\n",
    "\n",
    "str = \"mayalu\"\n",
    "remove_duplicate(str)"
   ]
  },
  {
   "cell_type": "markdown",
   "id": "da46b34e",
   "metadata": {},
   "source": [
    "# Maximum frequency character in String"
   ]
  },
  {
   "cell_type": "code",
   "execution_count": 12,
   "id": "e56ab3cb",
   "metadata": {},
   "outputs": [
    {
     "ename": "TypeError",
     "evalue": "'str' object is not callable",
     "output_type": "error",
     "traceback": [
      "\u001b[1;31m---------------------------------------------------------------------------\u001b[0m",
      "\u001b[1;31mTypeError\u001b[0m                                 Traceback (most recent call last)",
      "\u001b[1;32mC:\\Users\\MANOJK~1\\AppData\\Local\\Temp/ipykernel_8808/4266656158.py\u001b[0m in \u001b[0;36m<module>\u001b[1;34m\u001b[0m\n\u001b[0;32m     10\u001b[0m \u001b[1;33m\u001b[0m\u001b[0m\n\u001b[0;32m     11\u001b[0m \u001b[0mresult\u001b[0m \u001b[1;33m=\u001b[0m \u001b[0mmax\u001b[0m\u001b[1;33m(\u001b[0m\u001b[0mmax_frequent\u001b[0m\u001b[1;33m,\u001b[0m \u001b[0mkey\u001b[0m\u001b[1;33m=\u001b[0m\u001b[0mmax_frequent\u001b[0m\u001b[1;33m.\u001b[0m\u001b[0mget\u001b[0m\u001b[1;33m)\u001b[0m\u001b[1;33m\u001b[0m\u001b[1;33m\u001b[0m\u001b[0m\n\u001b[1;32m---> 12\u001b[1;33m \u001b[0mprint\u001b[0m\u001b[1;33m(\u001b[0m\u001b[1;34m\"The maximum frequency character is: \"\u001b[0m \u001b[1;33m+\u001b[0m \u001b[0mstr\u001b[0m\u001b[1;33m(\u001b[0m\u001b[0mresult\u001b[0m\u001b[1;33m)\u001b[0m\u001b[1;33m)\u001b[0m\u001b[1;33m\u001b[0m\u001b[1;33m\u001b[0m\u001b[0m\n\u001b[0m",
      "\u001b[1;31mTypeError\u001b[0m: 'str' object is not callable"
     ]
    }
   ],
   "source": [
    "str = 'mana'\n",
    "\n",
    "max_frequent = {}\n",
    "\n",
    "for i in str:\n",
    "    if i in max_frequent:\n",
    "        max_frequent[i] += 1\n",
    "    else:\n",
    "        max_frequent[i] = 1\n",
    "\n",
    "result = max(max_frequent, key=max_frequent.get)\n",
    "print(\"The maximum frequency character is: \" + str(result))"
   ]
  },
  {
   "cell_type": "code",
   "execution_count": null,
   "id": "4b3e7993",
   "metadata": {},
   "outputs": [],
   "source": []
  }
 ],
 "metadata": {
  "kernelspec": {
   "display_name": "Python 3 (ipykernel)",
   "language": "python",
   "name": "python3"
  },
  "language_info": {
   "codemirror_mode": {
    "name": "ipython",
    "version": 3
   },
   "file_extension": ".py",
   "mimetype": "text/x-python",
   "name": "python",
   "nbconvert_exporter": "python",
   "pygments_lexer": "ipython3",
   "version": "3.9.7"
  }
 },
 "nbformat": 4,
 "nbformat_minor": 5
}
